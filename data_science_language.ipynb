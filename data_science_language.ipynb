{
  "metadata": {
    "kernelspec": {
      "name": "python",
      "display_name": "Python (Pyodide)",
      "language": "python"
    },
    "language_info": {
      "codemirror_mode": {
        "name": "python",
        "version": 3
      },
      "file_extension": ".py",
      "mimetype": "text/x-python",
      "name": "python",
      "nbconvert_exporter": "python",
      "pygments_lexer": "ipython3",
      "version": "3.8"
    }
  },
  "nbformat_minor": 4,
  "nbformat": 4,
  "cells": [
    {
      "cell_type": "markdown",
      "source": "# Yan_work\n",
      "metadata": {}
    },
    {
      "cell_type": "markdown",
      "source": "# Introduction\n\nWelcome to this notebook. In this section, we will outline the main objectives, the approach we will take, and what we hope to achieve. This notebook is designed to provide a comprehensive understanding of our topic and to guide you through the analysis step by step.\n\nFeel free to navigate through the sections to get an overview of the content and structure. Let's dive in and explore the exciting journey ahead!\n",
      "metadata": {}
    },
    {
      "cell_type": "markdown",
      "source": "# Data Science Languages\n\nThe following are key programming languages widely used in the field of data science:\n\n1. **Python**: Known for its simplicity and readability, Python is a popular choice for data analysis, machine learning, and artificial intelligence.\n\n2. **R**: Specialized in statistical analysis and graphical models, R is highly regarded in academia and research.\n\n3. **SQL**: Essential for database management and data manipulation, SQL is crucial for data querying.\n\n4. **Java**: Known for its portability and performance, Java is often used in large-scale data processing applications.\n\n5. **Scala**: Often used with Apache Spark, Scala is great for big data processing tasks.\n\n6. **Julia**: A newer language, known for its high performance and ease of use, especially in numerical and computational science.\n\n7. **MATLAB**: Widely used in engineering and scientific communities for data analysis and mathematical computations.\n",
      "metadata": {}
    },
    {
      "cell_type": "markdown",
      "source": "# Data Science Libraries\n\nData science involves a variety of libraries that aid in data analysis, visualization, and machine learning. Some of the key libraries include:\n\n1. **Pandas**: A Python library for data manipulation and analysis, particularly useful for working with structured data.\n\n2. **NumPy**: Essential for numerical computing in Python, it offers support for large, multi-dimensional arrays and matrices.\n\n3. **SciPy**: Built on NumPy, it's used for scientific and technical computing.\n\n4. **Matplotlib**: A Python 2D plotting library which produces publication-quality figures in a variety of formats and interactive environments.\n\n5. **Seaborn**: Based on Matplotlib, it provides a high-level interface for drawing attractive and informative statistical graphics.\n\n6. **Scikit-learn**: A Python library for machine learning, providing simple and efficient tools for data mining and data analysis.\n\n7. **TensorFlow**: An open-source software library for machine learning, developed by Google to conduct sophisticated and powerful ML tasks.\n\n8. **Keras**: An open-source software library that provides a Python interface for artificial neural networks, running on top of TensorFlow.\n\n9. **PyTorch**: An open-source machine learning library based on the Torch library, popular for applications such as computer vision and natural language processing.\n\n10. **Plotly**: A graphing library that makes interactive, publication-quality graphs online.\n\n",
      "metadata": {}
    },
    {
      "cell_type": "markdown",
      "source": "# Data Science Tools\n\n| Category         | Tool Name       | Description                                   |\n|------------------|-----------------|-----------------------------------------------|\n| Data Processing  | Pandas          | A Python library for data manipulation and analysis. |\n| Data Visualization | Matplotlib    | A Python 2D plotting library for creating static, animated, and interactive visualizations. |\n| Machine Learning | Scikit-learn    | A Python library that offers simple and efficient tools for predictive data analysis. |\n| Deep Learning    | TensorFlow      | An open-source software library for machine learning and artificial intelligence. |\n| Statistical Analysis | R           | A programming language and environment for statistical computing and graphics. |\n| Big Data         | Apache Spark    | An open-source unified analytics engine for large-scale data processing. |\n| Database Management | SQL          | A domain-specific language used in programming for managing and manipulating databases. |\n| Data Visualization | Tableau       | A powerful data visualization tool used in the Business Intelligence industry. |\n| Interactive Computing | Jupyter Notebook | An open-source web application that allows you to create and share documents that contain live code, equations, visualizations, and narrative text. |\n| Version Control  | Git             | A distributed version-control system for tracking changes in source code during software development. |\n\n",
      "metadata": {}
    },
    {
      "cell_type": "markdown",
      "source": "# Arithmetic Expression Examples\n\nIn this section, we will explore various examples of arithmetic expressions. Arithmetic expressions are used to perform mathematical operations and are fundamental in programming and data analysis. We will look at basic operations like addition, subtraction, multiplication, and division, as well as more complex expressions involving multiple operators.\n\n## Examples\n\n1. **Addition**\n   - Expression: `5 + 3`\n   - Description: Adds 5 and 3.\n   - Result: `8`\n\n2. **Subtraction**\n   - Expression: `10 - 4`\n   - Description: Subtracts 4 from 10.\n   - Result: `6`\n\n3. **Multiplication**\n   - Expression: `7 * 2`\n   - Description: Multiplies 7 by 2.\n   - Result: `14`\n\n4. **Division**\n   - Expression: `20 / 5`\n   - Description: Divides 20 by 5.\n   - Result: `4`\n\n5. **Combining Operations**\n   - Expression: `(3 + 7) * 2`\n   - Description: Adds 3 and 7, then multiplies the sum by 2.\n   - Result: `20`\n\n",
      "metadata": {}
    },
    {
      "cell_type": "code",
      "source": "# Define the numbers\nnumber1 = 5\nnumber2 = 3\nnumber3 = 2\n\n# Multiply number1 and number2, then add number3\nresult = (number1 * number2) + number3\n\n# Print the result\nprint(\"The result is:\", result)\n",
      "metadata": {
        "trusted": true
      },
      "outputs": [
        {
          "name": "stdout",
          "text": "The result is: 17\n",
          "output_type": "stream"
        }
      ],
      "execution_count": 5
    },
    {
      "cell_type": "code",
      "source": "# Function to convert minutes to hours and minutes\ndef convert_minutes_to_hours(minutes):\n    hours = minutes // 60\n    remaining_minutes = minutes % 60\n    return hours, remaining_minutes\n\n# Example usage\nminutes = 150\nhours, remaining_minutes = convert_minutes_to_hours(minutes)\nprint(f\"{minutes} minutes is equal to {hours} hour(s) and {remaining_minutes} minute(s).\")\n",
      "metadata": {
        "trusted": true
      },
      "outputs": [
        {
          "name": "stdout",
          "text": "150 minutes is equal to 2 hour(s) and 30 minute(s).\n",
          "output_type": "stream"
        }
      ],
      "execution_count": 6
    },
    {
      "cell_type": "markdown",
      "source": "# Objectives\n\nIn this section, we outline the primary objectives of our project or analysis:\n\n1. **Objective 1**: Clearly state the first objective, detailing what you aim to achieve or explore.\n\n2. **Objective 2**: Describe the second objective, focusing on specific goals or questions you plan to address.\n\n3. **Objective 3**: Outline the third objective, ensuring it aligns with the overall purpose of your work.\n\n4. **Further Goals**: Mention any additional objectives or goals that you aim to accomplish, providing context as necessary.\n\nThese objectives are designed to guide the direction of our work and provide clear goals to achieve. They will be revisited and evaluated upon the completion of the project.\n",
      "metadata": {}
    },
    {
      "cell_type": "markdown",
      "source": "# YAN ZHANLIN\n\n**Name:** [YAN ZAHNLIN]\n\nThis notebook has been prepared by [YAN ZHANLIN]. For any queries or further information, please feel free to contact me.\n\n---\n\n*Contact Information:*\n- Email: [zhanlin1999@outlook.com]\n- LinkedIn: [LinkedIn Profile](https://www.linkedin.com/in/YANZHANLIN)\n- GitHub: [GitHub Profile](https://github.com/YANZHANLIN)\n",
      "metadata": {}
    }
  ]
}
