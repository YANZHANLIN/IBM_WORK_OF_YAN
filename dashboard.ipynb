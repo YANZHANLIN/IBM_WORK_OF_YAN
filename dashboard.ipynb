import dash
import more_itertools
from dash import dcc
from dash import html
from dash.dependencies import Input, Output
import pandas as pd
import plotly.graph_objs as go
import plotly.express as px




data = pd.read_csv('historical_automobile_sales.csv')

app = dash.Dash(__name__)

app.title = "Automobile Statistics Dashboard"

# Sample data for dropdowns
dropdown_options = [
    {'label': 'Yearly Statistics', 'value': 'Yearly Statistics'},
    {'label': 'Recession Period Statistics', 'value': 'Recession Period Statistics'}
]
year_list = [i for i in range(1980, 2024, 1)]

# Define the layout of the application
app.layout = html.Div([
    html.H1("Automobile Statistics Dashboard", style={'textAlign': 'center', 'color': '#000000', 'font-size': '24px'}),
    html.Div([
        html.Label("Select Statistics:"),
        dcc.Dropdown(
            id='dropdown-statistics',
            options=dropdown_options,
            value='Select Statistics',
            placeholder='Select a report type'
        )
    ]),
    html.Div([
        html.Label("Select Year:"),
        dcc.Dropdown(
            id='select-year',
            options=[{'label': str(i), 'value': i} for i in year_list],
            value=2020,
            placeholder='Select a year'
        )
    ]),
    html.Div(id='output-container', 
             children=[],
             className='chart-item', 
             style={'display': 'flex'})
             
])


# Callback to update the output-container based on dropdown selections
@app.callback(
    Output('select-year', 'disabled'),
    Input('dropdown-statistics', 'value')
)
def update_input_container(selected_statistics):
    if selected_statistics =='Yearly Statistics':
        return False
    else:
        return True



@app.callback(
    Output(component_id='output-container', component_property='children'),
    [Input(component_id='dropdown-statistics', component_property='value'), 
     Input(component_id='select-year', component_property='value')])

def update_output_container(dropdown_statistics, input_year):
    if input_year:
        input_year = int(input_year)
    
    if dropdown_statistics == 'Recession Period Statistics':
        # Filter the data for recession periods
        recession_data = data[data['Recession'] == 1]

#TASK 2.5: Create and display graphs for Recession Report Statistics

#Plot 1 Automobile sales fluctuate over Recession Period (year wise)
        # use groupby to create relevant data for plotting
        yearly_rec=recession_data.groupby('Year')['Automobile_Sales'].mean().reset_index()
        R_chart1 = dcc.Graph(
            figure=px.line(yearly_rec,
                           x='Year',
                           y='Automobile_Sales',
                           title="Average Automobile Sales fluctuation over Recession Period"))
        
#Plot 2 Calculate the average number of vehicles sold by vehicle type
        # use groupby to create relevant data for plotting
        average_sales = recession_data.groupby('Vehicle_Type')['Automobile_Sales'].mean().reset_index()
        R_chart2  = dcc.Graph(
            figure=px.line(average_sales,
                           x='Vehicle_Type',
                           y='Automobile_Sales',
                           title="Average number of vehicles sold by vehicle type over Recession Period"
                           )
                           )
# Plot 3 Pie chart for total expenditure share by vehicle type during recessions
        # use groupby to create relevant data for plotting
        exp_rec= recession_data.groupby('Vehicle_Type')['Advertising_Expenditure'].sum().reset_index()
        R_chart3 = dcc.Graph(
            figure=px.pie(exp_rec,
                        values='Advertising_Expenditure',
                        names='Vehicle_Type',
                        title="Total expenditure share by vehicle type during recessions Period"
                        )
                        )

# Plot 4 bar chart for the effect of unemployment rate on vehicle type and sales
        une_rate= recession_data.groupby('Vehicle_Type').agg({
    'Automobile_Sales': 'mean',
    'unemployment_rate': 'mean'}).reset_index()
        R_chart4 = dcc.Graph(
            figure=px.bar(une_rate,
                          x='Vehicle_Type',
                          y='Automobile_Sales',
                          color='unemployment_rate',
                          title='Vehicle Sales vs. Unemployment Rate',
                          labels={'Sales': 'Number of Vehicles Sold', 'Vehicle_Type': 'Type of Vehicle'},
                          barmode='group'
                          )
                          )



        return [
        html.Div(className='chart-item', 
                 children=[
                     html.Div(children=[R_chart1], style={'flex': '1'}),
                     html.Div(children=[R_chart2], style={'flex': '1'}),
                     ], 
                     style={'display': 'flex'}),
        html.Div(className='chart-item', 
                 children=[
                     html.Div(children=[R_chart3], style={'flex': '1'}),
                     html.Div(children=[R_chart4], style={'flex': '1'}),
                     ], 
                     style={'display': 'flex'})
                     ]

# TASK 2.6: Create and display graphs for Yearly Report Statistics
 # Yearly Statistic Report Plots
    elif (input_year and dropdown_statistics=='Yearly Statistics') :
        yearly_data = data[data['Year'] == input_year]


#TASK 2.5: Creating Graphs Yearly data

#plot 1 Yearly Automobile sales using line chart for the whole period.
        yas= data.groupby('Year')['Automobile_Sales'].mean().reset_index()
        Y_chart1 = dcc.Graph(
            figure=px.line(yas,
                           x='Year',
                           y='Automobile_Sales',
                           title="Average Automobile Sales for the whole period"
                           )
                           )
        
# Plot 2 Total Monthly Automobile sales using line chart.
        mas= data.groupby('Month')['Automobile_Sales'].mean().reset_index()
        Y_chart2 = dcc.Graph(
            figure=px.line(mas,
                           x='Month',
                           y='Automobile_Sales',
                           title="Average Automobile Sales for the whole period(monthly)"
                           )
                           )

# Plot bar chart for average number of vehicles sold during the given year
        avr_vdata=yearly_data.groupby('Vehicle_Type')['Automobile_Sales'].mean().reset_index()
        Y_chart3 = dcc.Graph(
            figure=px.bar(avr_vdata,
                          x='Vehicle_Type',
                          y='Automobile_Sales',
                          title='Average Vehicles Sold by Vehicle Type in the year {}'.format(input_year),
                          )
                          )

# Total Advertisement Expenditure for each vehicle using pie chart
        exp_data=data.groupby('Vehicle_Type')['Advertising_Expenditure'].sum().reset_index()
        Y_chart4 = dcc.Graph(
            figure=px.pie(exp_data,
                          values='Advertising_Expenditure',
                          names='Vehicle_Type',
                          title="Total expenditure share by vehicle type"
                          )
                          )
        


#TASK 2.6: Returning the graphs for displaying Yearly data
        return [
        html.Div(className='chart-item', 
                 children=[
                     html.Div(children=[Y_chart1], style={'flex': '1'}),
                     html.Div(children=[Y_chart2], style={'flex': '1'}),
                     ], style={'display': 'flex'}),
        html.Div(className='chart-item', 
                 children=[
                     html.Div(children=[Y_chart3], style={'flex': '1'}),
                     html.Div(children=[Y_chart4], style={'flex': '1'}),
                     ], style={'display': 'flex'}),                     
                     ]


    else:
        return None


# Run the application
if __name__ == '__main__':
    app.run_server(debug=True)

